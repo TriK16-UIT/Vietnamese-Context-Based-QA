{
 "cells": [
  {
   "cell_type": "code",
   "execution_count": 1,
   "metadata": {},
   "outputs": [
    {
     "name": "stderr",
     "output_type": "stream",
     "text": [
      "e:\\Vietnamese-Context-based-Question-Answering\\.venv\\lib\\site-packages\\tqdm\\auto.py:21: TqdmWarning: IProgress not found. Please update jupyter and ipywidgets. See https://ipywidgets.readthedocs.io/en/stable/user_install.html\n",
      "  from .autonotebook import tqdm as notebook_tqdm\n",
      "E:\\Vietnamese-Context-based-Question-Answering\\transformers\\src\\transformers\\modeling_utils.py:460: FutureWarning: You are using `torch.load` with `weights_only=False` (the current default value), which uses the default pickle module implicitly. It is possible to construct malicious pickle data which will execute arbitrary code during unpickling (See https://github.com/pytorch/pytorch/blob/main/SECURITY.md#untrusted-models for more details). In a future release, the default value for `weights_only` will be flipped to `True`. This limits the functions that could be executed during unpickling. Arbitrary objects will no longer be allowed to be loaded via this mode unless they are explicitly allowlisted by the user via `torch.serialization.add_safe_globals`. We recommend you start setting `weights_only=True` for any use case where you don't have full control of the loaded file. Please open an issue on GitHub for any issues related to this experimental feature.\n",
      "  return torch.load(checkpoint_file, map_location=\"cpu\")\n"
     ]
    }
   ],
   "source": [
    "from transformers import pipeline\n",
    "\n",
    "# Replace this with your own checkpoint\n",
    "model_checkpoint = \"models/xlm-roberta-base\"\n",
    "question_answerer = pipeline(\"question-answering\", model=model_checkpoint, device=\"cuda\")"
   ]
  },
  {
   "cell_type": "code",
   "execution_count": 2,
   "metadata": {},
   "outputs": [],
   "source": [
    "context = \"Trần Hoàn Vy và Trần Hoàn Châu đang tranh giành điều khiển từ xa (remote) để chọn chương trình yêu thích. \\\n",
    "            Trong lúc tranh cãi, Trần Hoàn Châu đã vô tình (hoặc cố ý) thụi điều khiển từ xa vào bụng của Trần Hoàn Vy.  \\\n",
    "            Sự việc này đã dẫn đến một cuộc cãi vã lớn hơn, khiến mọi người trong gia đình phải can ngăn.\""
   ]
  },
  {
   "cell_type": "code",
   "execution_count": 3,
   "metadata": {},
   "outputs": [
    {
     "data": {
      "text/plain": [
       "{'score': 7.024809019640088e-05, 'start': 139, 'end': 143, 'answer': 'Trần'}"
      ]
     },
     "execution_count": 3,
     "metadata": {},
     "output_type": "execute_result"
    }
   ],
   "source": [
    "question = \"Sự việc nào đã dẫn đến một cuộc cãi vã lớn hơn?\"\n",
    "question_answerer(question=question, context=context)"
   ]
  },
  {
   "cell_type": "code",
   "execution_count": 4,
   "metadata": {},
   "outputs": [
    {
     "data": {
      "text/plain": [
       "{'score': 0.9994725584983826,\n",
       " 'start': 46,\n",
       " 'end': 61,\n",
       " 'answer': 'Phan Châu Trinh'}"
      ]
     },
     "execution_count": 4,
     "metadata": {},
     "output_type": "execute_result"
    }
   ],
   "source": [
    "context = 'Trong số các sĩ phu đương thời và cả sau này, Phan Châu Trinh là người thấy rõ nhất những nhược điểm của con người và xã hội Việt Nam. Ông chủ trương phải thay đổi từ gốc rễ bằng cách nâng cao trình độ trí tuệ và đạo đức của người Việt, phát triển kinh tế - văn hóa, bỏ những tư tưởng tiến bộ của Phương Tây, từ bỏ phong tục tập quán lạc hậu... Ông cho rằng Việt Nam phải phát triển kinh tế và giáo dục để tự lực tự cường, hội nhập vào thế giới văn minh rồi mới nên mưu cầu độc lập chứ không nên cầu viện ngoại bang bằng bạo lực để giành độc lập như chủ trương của Phan Bội Châu. Chỉ như vậy Việt Nam mới có nền độc lập chân chính trong quan hệ với ngoại bang còn nhân dân dân được hưởng tự do trong quan hệ với nhà nước. Phan Châu Trinh viết “Nước ta từ ngày Pháp sang bảo hộ trên mấy mươi năm, người mình học Tây học chỉ làm được việc phiến diện nói phô má thôi, không có ai hấp thu được chỗ tinh túy, phần tìm đến nơi mình yếu kém về mà sửa đổi cho giống nòi. Trái lại, bên trong thì thói hư tật xấu của người một ngày tăng thêm, bên ngoài thì nước mình làm một rỡ cho người Tàu mà không tự biết nóng, xét đánh ngang trán mà không biết sợ, thấy một bên mà không biết gắng sức bắt chước bước theo. Thậm chí nữa trái trọc trái trò, một hai toàn tim một nước có thực là nước đó thế bực nào yếu thương mình mà vui lòng làm tôi làm tớ”. Để thực hiện chủ trương của mình, ông đã cùng phát động phong trào Duy Tân và viết những bản kiến nghị gửi lên chính quyền thực dân Pháp tại Đông Dương để nghị họ thực hiện cải cách. Mùa hè năm 1906 Phan Châu Trinh về nước. Việc làm đầu tiên là liên lạc với các sĩ phu cựu học như Đầu Phan Bội Châu tại Bưu toàn Quảng Nam bàn cách hợp tác và sửa đổi chính sách cai trị để giúp người Việt từng bước tiến lên văn minh. Sau đó, với phương châm “tự lực khai hóa\" và tư tưởng dân quyền, Phan Châu Trinh cùng Huỳnh Thúc Kháng, Trần Quý Cáp đi khắp tỉnh Quảng Nam và các tỉnh lân cận để vận động cuộc duy tân. Khẩu hiệu của phong trào lúc bấy giờ là: Khai dân trí, chấn dân khí, hậu dân sinh. Phương thức hoạt động của phong trào là bất bạo động, công khai hoạt động nhằm khai hóa dân tộc, giáo dục ý thức tự công dân - tinh thần tự cường - độc lập - tự chủ - có trách nhiệm với gia đình và xã hội, thay đổi tận gốc rễ nền văn hóa - tâm lý - tính cách - tư duy - tập quán của người Việt, phổ biến các giá trị của nền văn hóa minh phương Tây như pháp quyền - dân quyền - dân chủ - bình đẳng - bác ái, cải cách trên mọi lĩnh vực giáo dục (bỏ lối học tủ chương, xóa mù chữ phổ cập đồng phong trào học Quốc ngữ), mở mang công thương nghiệp, cải tiến nông nghiệp, cải hưng công nghệ, bỏ mê tín dị đoan, thay đổi tư duy của các tập quán (cắt tóc ngắn, cắt ngắn móng tay)... Thời gian này, ông viết bài Tỉnh quốc hồn ca kêu gọi mọi người duy tân theo hướng khai minh và phát triển thực nghiệp như phát triển thủ công nghiệp nội địa. Hướng ứng, ở Quảng Nam và các tỉnh lân cận, mọi người tổ chức tuyên truyền, thiết lập trường học, thư xã, thương hội, hội nghề nghiệp,... để lần lượt được lặp ra. Tháng 7 năm 1907 Phan Châu Trinh nhận lời mời ra Hà Nội tham gia diễn giảng mỗi tháng 2 kỳ ở Đông Kinh Nghĩa Thục.'\n",
    "\n",
    "question = \"Ai là người thấy rõ nhất những nhược điểm của con người và xã hội Việt Nam?\"\n",
    "question_answerer(question=question, context=context)"
   ]
  }
 ],
 "metadata": {
  "kernelspec": {
   "display_name": ".venv",
   "language": "python",
   "name": "python3"
  },
  "language_info": {
   "codemirror_mode": {
    "name": "ipython",
    "version": 3
   },
   "file_extension": ".py",
   "mimetype": "text/x-python",
   "name": "python",
   "nbconvert_exporter": "python",
   "pygments_lexer": "ipython3",
   "version": "3.9.13"
  }
 },
 "nbformat": 4,
 "nbformat_minor": 2
}
